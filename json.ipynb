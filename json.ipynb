{
 "cells": [
  {
   "cell_type": "code",
   "execution_count": 1,
   "metadata": {},
   "outputs": [],
   "source": [
    "import json\n",
    "\n",
    "#  Define input & output file paths\n",
    "input_file = r\"C:\\Users\\gvais\\OneDrive\\Desktop\\faq\\faq text.txt\"\n",
    "output_file = r\"C:\\Users\\gvais\\OneDrive\\Desktop\\faq\\faq_data.json\""
   ]
  },
  {
   "cell_type": "code",
   "execution_count": 2,
   "metadata": {},
   "outputs": [],
   "source": [
    "# List to store extracted FAQs\n",
    "faqs = []\n",
    "question = None\n",
    "answer = \"\""
   ]
  },
  {
   "cell_type": "code",
   "execution_count": 4,
   "metadata": {},
   "outputs": [],
   "source": [
    "import chardet"
   ]
  },
  {
   "cell_type": "code",
   "execution_count": 5,
   "metadata": {},
   "outputs": [
    {
     "name": "stdout",
     "output_type": "stream",
     "text": [
      " Detected Encoding: Windows-1252\n"
     ]
    }
   ],
   "source": [
    "# Detect File Encoding First (To Avoid Unicode Errors)\n",
    "with open(input_file, \"rb\") as f:\n",
    "    raw_data = f.read(50000)  # Read a portion of the file\n",
    "    result = chardet.detect(raw_data)\n",
    "    detected_encoding = result[\"encoding\"]\n",
    "\n",
    "print(f\" Detected Encoding: {detected_encoding}\")"
   ]
  },
  {
   "cell_type": "code",
   "execution_count": 6,
   "metadata": {},
   "outputs": [],
   "source": [
    "#  Read the text file with detected encoding (Avoid Unicode Errors)\n",
    "with open(input_file, \"r\", encoding=detected_encoding, errors=\"ignore\") as f:\n",
    "    lines = f.readlines()"
   ]
  },
  {
   "cell_type": "code",
   "execution_count": 7,
   "metadata": {},
   "outputs": [],
   "source": [
    "#  Try multiple encodings (utf-8-sig, latin-1, or errors=\"replace\" to avoid crashes)\n",
    "with open(input_file, \"r\", encoding=\"utf-8-sig\", errors=\"replace\") as file:\n",
    "    for line in file:\n",
    "        line = line.strip()\n",
    "\n",
    "        if line.startswith(\"Q-\"):  # Identify questions\n",
    "            if question and answer:  # Store previous Q&A before starting a new one\n",
    "                faqs.append({\"question\": question, \"answer\": answer.strip()})\n",
    "            question = line[2:].strip()  # Remove 'Q-' and store question\n",
    "            answer = \"\"  # Reset answer for new question\n",
    "\n",
    "        elif line.startswith(\"A-\"):  # Identify answers\n",
    "            answer = line[2:].strip()  # Remove 'A-' and store answer\n",
    "\n",
    "        else:  # Append multi-line answers\n",
    "            answer += \" \" + line\n",
    "\n"
   ]
  },
  {
   "cell_type": "code",
   "execution_count": 8,
   "metadata": {},
   "outputs": [
    {
     "name": "stdout",
     "output_type": "stream",
     "text": [
      " FAQs successfully extracted and saved to: C:\\Users\\gvais\\OneDrive\\Desktop\\faq\\faq_data.json\n"
     ]
    }
   ],
   "source": [
    "\n",
    "# Append the last Q&A pair\n",
    "if question and answer:\n",
    "    faqs.append({\"question\": question, \"answer\": answer.strip()})\n",
    "\n",
    "# Save FAQs to JSON file\n",
    "with open(output_file, \"w\", encoding=\"utf-8\") as json_file:\n",
    "    json.dump({\"faqs\": faqs}, json_file, indent=4, ensure_ascii=False)\n",
    "\n",
    "print(f\" FAQs successfully extracted and saved to: {output_file}\")"
   ]
  },
  {
   "cell_type": "code",
   "execution_count": 9,
   "metadata": {},
   "outputs": [],
   "source": [
    "import json\n",
    "\n",
    "faq_file = r\"C:\\Users\\gvais\\OneDrive\\Desktop\\faq\\faq_data.json\"  # Update path"
   ]
  },
  {
   "cell_type": "code",
   "execution_count": 10,
   "metadata": {},
   "outputs": [],
   "source": [
    "#  Load JSON file correctly\n",
    "with open(faq_file, \"r\", encoding=\"utf-8\") as f:\n",
    "    faqs = json.load(f)"
   ]
  },
  {
   "cell_type": "code",
   "execution_count": 11,
   "metadata": {},
   "outputs": [
    {
     "name": "stdout",
     "output_type": "stream",
     "text": [
      "Type of faqs: <class 'dict'>\n",
      "Dictionary keys: dict_keys(['faqs'])\n"
     ]
    }
   ],
   "source": [
    "#  Check the type of `faqs`\n",
    "print(\"Type of faqs:\", type(faqs))  # Should be <class 'list'>\n",
    "\n",
    "#  If it's a dictionary, print keys\n",
    "if isinstance(faqs, dict):\n",
    "    print(\"Dictionary keys:\", faqs.keys())\n",
    "\n",
    "#  If it's a list, print first 3 entries\n",
    "if isinstance(faqs, list):\n",
    "    print(faqs[:3])  # Should show a list of dictionaries"
   ]
  },
  {
   "cell_type": "code",
   "execution_count": null,
   "metadata": {},
   "outputs": [],
   "source": []
  }
 ],
 "metadata": {
  "kernelspec": {
   "display_name": "Python 3",
   "language": "python",
   "name": "python3"
  },
  "language_info": {
   "codemirror_mode": {
    "name": "ipython",
    "version": 3
   },
   "file_extension": ".py",
   "mimetype": "text/x-python",
   "name": "python",
   "nbconvert_exporter": "python",
   "pygments_lexer": "ipython3",
   "version": "3.11.9"
  }
 },
 "nbformat": 4,
 "nbformat_minor": 2
}

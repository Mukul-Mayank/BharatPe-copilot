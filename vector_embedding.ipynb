{
 "cells": [
  {
   "cell_type": "code",
   "execution_count": 1,
   "metadata": {},
   "outputs": [
    {
     "name": "stderr",
     "output_type": "stream",
     "text": [
      "C:\\Users\\gvais\\AppData\\Local\\Packages\\PythonSoftwareFoundation.Python.3.11_qbz5n2kfra8p0\\LocalCache\\local-packages\\Python311\\site-packages\\tqdm\\auto.py:21: TqdmWarning: IProgress not found. Please update jupyter and ipywidgets. See https://ipywidgets.readthedocs.io/en/stable/user_install.html\n",
      "  from .autonotebook import tqdm as notebook_tqdm\n"
     ]
    }
   ],
   "source": [
    "import json\n",
    "import torch\n",
    "from transformers import AutoTokenizer, AutoModel"
   ]
  },
  {
   "cell_type": "code",
   "execution_count": 2,
   "metadata": {},
   "outputs": [],
   "source": [
    "#  Load the pre-trained embedding model\n",
    "MODEL_NAME = \"sentence-transformers/all-MiniLM-L6-v2\"  # Change to OpenAI model if needed\n",
    "tokenizer = AutoTokenizer.from_pretrained(MODEL_NAME)\n",
    "model = AutoModel.from_pretrained(MODEL_NAME)"
   ]
  },
  {
   "cell_type": "code",
   "execution_count": 3,
   "metadata": {},
   "outputs": [],
   "source": [
    "#  Load BPE Tokenized Dataset\n",
    "file_path = r\"C:\\Users\\gvais\\OneDrive\\Desktop\\faq\\bharatpe_faqs.json\"  # Use full path\n",
    "with open(file_path, \"r\", encoding=\"utf-8\") as file:\n",
    "    faq_data = json.load(file)"
   ]
  },
  {
   "cell_type": "code",
   "execution_count": 4,
   "metadata": {},
   "outputs": [],
   "source": [
    "# Function to Convert Text to Vector Embeddings\n",
    "def generate_embedding(text):\n",
    "    inputs = tokenizer(text, return_tensors=\"pt\", truncation=True, padding=True)\n",
    "    with torch.no_grad():\n",
    "        outputs = model(**inputs)\n",
    "    return outputs.last_hidden_state.mean(dim=1).squeeze().tolist()"
   ]
  },
  {
   "cell_type": "code",
   "execution_count": 5,
   "metadata": {},
   "outputs": [],
   "source": [
    "#  Generate Embeddings for Each FAQ\n",
    "embeddings = []\n",
    "for item in faq_data[\"faqs\"]:\n",
    "    vector = generate_embedding(item[\"question\"] + \" \" + item[\"answer\"])\n",
    "    embeddings.append({\"question\": item[\"question\"], \"embedding\": vector})\n"
   ]
  },
  {
   "cell_type": "code",
   "execution_count": 6,
   "metadata": {},
   "outputs": [
    {
     "name": "stdout",
     "output_type": "stream",
     "text": [
      " Embeddings saved at: C:\\Users\\gvais\\OneDrive\\Desktop\\faq\\faq_embeddings.json\n"
     ]
    }
   ],
   "source": [
    "#  Save Embeddings to a JSON File\n",
    "embedding_file = r\"C:\\Users\\gvais\\OneDrive\\Desktop\\faq\\faq_embeddings.json\"\n",
    "with open(embedding_file, \"w\", encoding=\"utf-8\") as f:\n",
    "    json.dump(embeddings, f, indent=4)\n",
    "\n",
    "print(f\" Embeddings saved at: {embedding_file}\")"
   ]
  },
  {
   "cell_type": "code",
   "execution_count": null,
   "metadata": {},
   "outputs": [],
   "source": []
  }
 ],
 "metadata": {
  "kernelspec": {
   "display_name": "Python 3",
   "language": "python",
   "name": "python3"
  },
  "language_info": {
   "codemirror_mode": {
    "name": "ipython",
    "version": 3
   },
   "file_extension": ".py",
   "mimetype": "text/x-python",
   "name": "python",
   "nbconvert_exporter": "python",
   "pygments_lexer": "ipython3",
   "version": "3.11.9"
  }
 },
 "nbformat": 4,
 "nbformat_minor": 2
}

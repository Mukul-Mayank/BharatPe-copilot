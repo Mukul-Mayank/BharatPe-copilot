{
 "cells": [
  {
   "cell_type": "code",
   "execution_count": 1,
   "metadata": {},
   "outputs": [],
   "source": [
    "\n",
    "#  Paths for input and output files\n",
    "bpe_tokenized_file = r\"C:\\Users\\gvais\\OneDrive\\Desktop\\faq\\bharatpe_faqs.json\"  # BPE tokenized dataset\n",
    "output_jsonl_file = r\"C:\\Users\\gvais\\OneDrive\\Desktop\\faq\\bharatpe_qlora.jsonl\"  # QLoRA fine-tuning dataset"
   ]
  },
  {
   "cell_type": "code",
   "execution_count": 3,
   "metadata": {},
   "outputs": [],
   "source": [
    "import json\n",
    "#  Load the tokenized FAQ dataset\n",
    "with open(bpe_tokenized_file, \"r\", encoding=\"utf-8\") as file:\n",
    "    faq_data = json.load(file)\n"
   ]
  },
  {
   "cell_type": "code",
   "execution_count": 4,
   "metadata": {},
   "outputs": [
    {
     "name": "stdout",
     "output_type": "stream",
     "text": [
      " QLoRA dataset successfully saved at: C:\\Users\\gvais\\OneDrive\\Desktop\\faq\\bharatpe_qlora.jsonl\n"
     ]
    }
   ],
   "source": [
    "#  Convert the dataset to QLoRA format\n",
    "with open(output_jsonl_file, \"w\", encoding=\"utf-8\") as jsonl_file:\n",
    "    for item in faq_data[\"faqs\"]:\n",
    "        jsonl_entry = {\n",
    "            \"instruction\": item[\"question\"],  # Question from FAQ dataset\n",
    "            \"input\": \"\",  # No additional input for now\n",
    "            \"output\": item[\"answer\"]  # Answer from FAQ dataset\n",
    "        }\n",
    "        jsonl_file.write(json.dumps(jsonl_entry) + \"\\n\")  # Write in JSONL format\n",
    "\n",
    "print(f\" QLoRA dataset successfully saved at: {output_jsonl_file}\")"
   ]
  },
  {
   "cell_type": "code",
   "execution_count": null,
   "metadata": {},
   "outputs": [],
   "source": []
  }
 ],
 "metadata": {
  "kernelspec": {
   "display_name": "Python 3",
   "language": "python",
   "name": "python3"
  },
  "language_info": {
   "codemirror_mode": {
    "name": "ipython",
    "version": 3
   },
   "file_extension": ".py",
   "mimetype": "text/x-python",
   "name": "python",
   "nbconvert_exporter": "python",
   "pygments_lexer": "ipython3",
   "version": "3.11.9"
  }
 },
 "nbformat": 4,
 "nbformat_minor": 2
}

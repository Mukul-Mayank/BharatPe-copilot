{
 "cells": [
  {
   "cell_type": "code",
   "execution_count": 1,
   "metadata": {},
   "outputs": [],
   "source": [
    "import json\n",
    "import ollama\n",
    "import chromadb"
   ]
  },
  {
   "cell_type": "code",
   "execution_count": 2,
   "metadata": {},
   "outputs": [],
   "source": [
    "#  Load the FAQ dataset\n",
    "file_path = r\"C:\\Users\\gvais\\OneDrive\\Desktop\\faq\\bharatpe_faqs.json\"\n",
    "with open(file_path, \"r\", encoding=\"utf-8\") as file:\n",
    "    faq_data = json.load(file)"
   ]
  },
  {
   "cell_type": "code",
   "execution_count": 3,
   "metadata": {},
   "outputs": [],
   "source": [
    "#  Initialize ChromaDB for Storing Embeddings\n",
    "chroma_client = chromadb.PersistentClient(path=r\"C:\\Users\\gvais\\OneDrive\\Desktop\\faq\\chroma_db\")\n",
    "collection = chroma_client.get_or_create_collection(name=\"faq_embeddings\")"
   ]
  },
  {
   "cell_type": "code",
   "execution_count": 4,
   "metadata": {},
   "outputs": [],
   "source": [
    "# ran for 1+ hr and still running so commemted it out for now\n",
    "# #  Generate and Store Embeddings\n",
    "# for item in faq_data[\"faqs\"]:\n",
    "#     text = item[\"question\"] + \" \" + item[\"answer\"]\n",
    "#     response = ollama.embeddings(model=\"mistral\", prompt=text)  # Use your preferred LLaMA model\n",
    "#     embedding = response[\"embedding\"]\n",
    "\n",
    "#     # Store in ChromaDB\n",
    "#     collection.add(\n",
    "#         ids=[item[\"question\"]],  # Use question as unique ID\n",
    "#         embeddings=[embedding],\n",
    "#         metadatas=[{\"question\": item[\"question\"], \"answer\": item[\"answer\"]}]\n",
    "#     )\n",
    "\n",
    "# print(\" Embeddings successfully generated and stored in ChromaDB!\")\n"
   ]
  },
  {
   "cell_type": "code",
   "execution_count": null,
   "metadata": {},
   "outputs": [],
   "source": []
  }
 ],
 "metadata": {
  "kernelspec": {
   "display_name": "Python 3",
   "language": "python",
   "name": "python3"
  },
  "language_info": {
   "codemirror_mode": {
    "name": "ipython",
    "version": 3
   },
   "file_extension": ".py",
   "mimetype": "text/x-python",
   "name": "python",
   "nbconvert_exporter": "python",
   "pygments_lexer": "ipython3",
   "version": "3.11.9"
  }
 },
 "nbformat": 4,
 "nbformat_minor": 2
}

{
 "cells": [
  {
   "cell_type": "code",
   "execution_count": 1,
   "metadata": {},
   "outputs": [
    {
     "name": "stderr",
     "output_type": "stream",
     "text": [
      "C:\\Users\\gvais\\AppData\\Local\\Packages\\PythonSoftwareFoundation.Python.3.11_qbz5n2kfra8p0\\LocalCache\\local-packages\\Python311\\site-packages\\tqdm\\auto.py:21: TqdmWarning: IProgress not found. Please update jupyter and ipywidgets. See https://ipywidgets.readthedocs.io/en/stable/user_install.html\n",
      "  from .autonotebook import tqdm as notebook_tqdm\n"
     ]
    },
    {
     "name": "stdout",
     "output_type": "stream",
     "text": [
      "tensor([[    1,  1724,   338,   350,  8222,   271, 15666, 29973,   350,  8222,\n",
      "           271, 15666,   338,   263, 18161, 15483,  5001,   856]])\n"
     ]
    }
   ],
   "source": [
    "#loading llama's pretrained tokenizer\n",
    "from transformers import LlamaTokenizer\n",
    "\n",
    "tokenizer = LlamaTokenizer.from_pretrained(\"meta-llama/Llama-2-7b-hf\")\n",
    "\n",
    "text = \"What is BharatPe? BharatPe is a financial technology company...\"\n",
    "tokens = tokenizer(text, return_tensors=\"pt\")\n",
    "\n",
    "print(tokens.input_ids)  # Tokenized representation"
   ]
  },
  {
   "cell_type": "code",
   "execution_count": 5,
   "metadata": {},
   "outputs": [],
   "source": [
    "import json\n",
    "\n",
    "\n",
    "# Load your FAQs\n",
    "with open(r\"C:\\Users\\gvais\\OneDrive\\Desktop\\faq\\bharatpe_faqs.json\", \"r\", encoding=\"utf-8\") as f:\n",
    "    faqs = json.load(f)"
   ]
  },
  {
   "cell_type": "code",
   "execution_count": 6,
   "metadata": {},
   "outputs": [
    {
     "name": "stdout",
     "output_type": "stream",
     "text": [
      "4.48.1\n"
     ]
    }
   ],
   "source": [
    "import transformers\n",
    "print(transformers.__version__)"
   ]
  },
  {
   "cell_type": "code",
   "execution_count": 9,
   "metadata": {},
   "outputs": [],
   "source": [
    "faq_file = r\"C:\\Users\\gvais\\OneDrive\\Desktop\\faq\\faq_data.json\"  # Update path"
   ]
  },
  {
   "cell_type": "code",
   "execution_count": 10,
   "metadata": {},
   "outputs": [],
   "source": [
    "#  Load JSON file correctly\n",
    "with open(faq_file, \"r\", encoding=\"utf-8\") as f:\n",
    "    faqs_dict = json.load(f)  # This loads a dictionary"
   ]
  },
  {
   "cell_type": "code",
   "execution_count": null,
   "metadata": {},
   "outputs": [],
   "source": []
  },
  {
   "cell_type": "code",
   "execution_count": 11,
   "metadata": {},
   "outputs": [
    {
     "name": "stdout",
     "output_type": "stream",
     "text": [
      "Type of faqs after extraction: <class 'list'>\n",
      "[{'question': 'what is bharatpe?', 'answer': \"bharatpe is a new way to pay, and makes spending easy. in collaboration with lending partners, you can spend now and pay next month. a line of credit is offered through bharatpe by rbi registered lenders (after necessary checks and kyc completion) which can be used anytime, anywhere to purchase goods and services - either by scanning a qr, sending money directly to your bank account, making utility bill payments or availing a personal loan from the assigned bharatpe limit. when it's time to pay your bill, you can clear your dues in one go, or convert to an equated monthly installment (emi) with tenure of your choice. you can also earn exciting cashback and rewards. get started now!\"}, {'question': 'how do i sign up for bharatpe?', 'answer': 'you can sign up for bharatpe by verifying your mobile number and then completing your kyc using pan and aadhaar number or any other information as required by the rbi registered lender'}, {'question': 'what is the maximum credit limit i can get?', 'answer': 'you can get a credit limit of up to 210 lakhs post completion of full kyc and meeting the required criteria as maybe determined by rbi registered lenders. this limit may increase if you continue using bharatpe and making timely repayments.'}]\n"
     ]
    }
   ],
   "source": [
    "#  Extract the FAQ list from the dictionary\n",
    "faqs = faqs_dict.get(\"faqs\", [])  # Safely get the list\n",
    "\n",
    "#  Check if it's now a list\n",
    "print(\"Type of faqs after extraction:\", type(faqs))  # Should be <class 'list'>\n",
    "print(faqs[:3])  # Print first 3 FAQs to verify"
   ]
  },
  {
   "cell_type": "code",
   "execution_count": 12,
   "metadata": {},
   "outputs": [],
   "source": [
    "\n",
    "\n",
    "# Tokenize all questions and answers\n",
    "tokenized_faqs = []\n",
    "for faq in faqs:\n",
    "    tokens = tokenizer(faq[\"question\"] + \" \" + faq[\"answer\"], return_tensors=\"pt\")\n",
    "    tokenized_faqs.append(tokens.input_ids.tolist())\n"
   ]
  },
  {
   "cell_type": "code",
   "execution_count": 13,
   "metadata": {},
   "outputs": [],
   "source": [
    "# Save the tokenized dataset\n",
    "with open(\"tokenized_faqs.json\", \"w\") as f:\n",
    "    json.dump(tokenized_faqs, f)\n"
   ]
  },
  {
   "cell_type": "code",
   "execution_count": null,
   "metadata": {},
   "outputs": [],
   "source": []
  }
 ],
 "metadata": {
  "kernelspec": {
   "display_name": "Python 3",
   "language": "python",
   "name": "python3"
  },
  "language_info": {
   "codemirror_mode": {
    "name": "ipython",
    "version": 3
   },
   "file_extension": ".py",
   "mimetype": "text/x-python",
   "name": "python",
   "nbconvert_exporter": "python",
   "pygments_lexer": "ipython3",
   "version": "3.11.9"
  }
 },
 "nbformat": 4,
 "nbformat_minor": 2
}
